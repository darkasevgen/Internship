{
  "nbformat": 4,
  "nbformat_minor": 0,
  "metadata": {
    "colab": {
      "name": "Minimize.ipynb",
      "provenance": [],
      "collapsed_sections": []
    },
    "kernelspec": {
      "name": "python3",
      "display_name": "Python 3"
    }
  },
  "cells": [
    {
      "cell_type": "code",
      "metadata": {
        "id": "wwQnPO-KDrNX"
      },
      "source": [
        "from scipy import optimize, stats\r\n",
        "import numpy as np\r\n",
        "from matplotlib import pyplot as plt\r\n",
        "import pandas as pd"
      ],
      "execution_count": 2,
      "outputs": []
    },
    {
      "cell_type": "code",
      "metadata": {
        "id": "OGadwMKvDs1J"
      },
      "source": [
        "fun = lambda x: 6 * x[0] ** 6 + 2 * x[0] ** 4 * x[1] ** 2 + 10 * x[0] ** 2 + \\\r\n",
        "6 * x[0] * x[1] + 10 * x[1] ** 2 - 6 * x[0] + 4"
      ],
      "execution_count": 3,
      "outputs": []
    },
    {
      "cell_type": "code",
      "metadata": {
        "id": "AMzOKmDyEDmJ"
      },
      "source": [
        "def minimize(function, x0, method, maxiter, bounds=None):\r\n",
        "    \"\"\"Минимизирует заданную функцию\"\"\"\r\n",
        "    return optimize.minimize(function, x0, method=method,\r\n",
        "                             options={'ftol': 1e-10, 'eps': 1e-7, 'maxiter': maxiter}, \r\n",
        "                             bounds=bounds if bounds else None)"
      ],
      "execution_count": 4,
      "outputs": []
    },
    {
      "cell_type": "code",
      "metadata": {
        "id": "GFAfoE9iEVEI"
      },
      "source": [
        "def draw_contourf(figsize, min_x, bounds=None):\r\n",
        "    \"\"\"Рисует контурный график (закрашенный между контурами) от 2-ух переменных\"\"\"\r\n",
        "    point_x1, point_x2 = min_x\r\n",
        "    plt.subplots(figsize=figsize, dpi=100)\r\n",
        "    plt.title('Таргет')\r\n",
        "\r\n",
        "    x, y = np.arange(bounds[0][0] * 1.2, bounds[0][1] * 1.2, 0.01), \\\r\n",
        "           np.arange(bounds[1][0] * 1.2, bounds[1][1] * 1.2, 0.01)\r\n",
        "\r\n",
        "    xx, yy = np.meshgrid(x, y, sparse=True)\r\n",
        "    z = fun(np.array([xx, yy]))\r\n",
        "\r\n",
        "    cs = plt.contourf(x, y, z, 30, cmap='viridis_r', alpha=1)\r\n",
        "    plt.clabel(cs, colors='k', inline=False, fontsize=7)\r\n",
        "    plt.colorbar()\r\n",
        "\r\n",
        "    plt.scatter(point_x1, point_x2, c='darkred', s=50)\r\n",
        "\r\n",
        "    plt.grid(color='k', linewidth=0.5)\r\n",
        "\r\n",
        "    plt.xticks(np.arange(x[0], x[-1] + 0.01, 1))\r\n",
        "    plt.yticks(np.arange(y[0], y[-1] + 0.01, 1))\r\n",
        "\r\n",
        "    plt.xlim(x[0], x[-1])\r\n",
        "    plt.ylim(y[0], y[-1])\r\n",
        "\r\n",
        "    # print(point_x1, point_x2)\r\n",
        "\r\n",
        "    plt.axhline(0, color='k', linewidth=1.5)\r\n",
        "    plt.axvline(0, color='k', linewidth=1.5)\r\n",
        "    plt.hlines(bounds[1][0], bounds[0][0], bounds[0][1], color='orangered')\r\n",
        "    plt.hlines(bounds[1][1], bounds[0][0], bounds[0][1], color='orangered')\r\n",
        "    plt.vlines(bounds[0][1], bounds[1][0], bounds[1][1], color='orangered')\r\n",
        "    plt.vlines(bounds[0][0], bounds[1][0], bounds[1][1], color='orangered')\r\n",
        "\r\n",
        "    plt.xlabel(r'$x1$')\r\n",
        "    plt.ylabel(r'$x2$')\r\n",
        "    # plt.axis('off')\r\n",
        "    plt.show()"
      ],
      "execution_count": 5,
      "outputs": []
    },
    {
      "cell_type": "code",
      "metadata": {
        "id": "eJKtAggcEbhO"
      },
      "source": [
        "x0 = (0, 0)"
      ],
      "execution_count": 6,
      "outputs": []
    },
    {
      "cell_type": "code",
      "metadata": {
        "colab": {
          "base_uri": "https://localhost:8080/"
        },
        "id": "bQ5_buMgComb",
        "outputId": "9b72c2dd-c28a-4fb6-96a2-d8fa1556903b"
      },
      "source": [
        "m1 = minimize(function=fun, x0=x0, method=\"Nelder-Mead\", maxiter=1000)\r\n",
        "\r\n",
        "print(f\"f({m1.x[0]}; {m1.x[1]}) = {m1.fun}\\n\")"
      ],
      "execution_count": 7,
      "outputs": [
        {
          "output_type": "stream",
          "text": [
            "f(0.3225588275268471; -0.09655913591908051) = 3.018409317619074\n",
            "\n"
          ],
          "name": "stdout"
        },
        {
          "output_type": "stream",
          "text": [
            "/usr/local/lib/python3.6/dist-packages/ipykernel_launcher.py:5: OptimizeWarning: Unknown solver options: eps\n",
            "  \"\"\"\n"
          ],
          "name": "stderr"
        }
      ]
    },
    {
      "cell_type": "code",
      "metadata": {
        "colab": {
          "base_uri": "https://localhost:8080/",
          "height": 609
        },
        "id": "hPwNaKaZElP4",
        "outputId": "c87ba05a-6a3a-4e5a-dfc6-d12ab18708a2"
      },
      "source": [
        "draw_contourf(figsize=(7, 6), min_x=m1.x, bounds=((-3, 3), (-3, 3)))"
      ],
      "execution_count": 8,
      "outputs": [
        {
          "output_type": "stream",
          "text": [
            "/usr/local/lib/python3.6/dist-packages/ipykernel_launcher.py:10: VisibleDeprecationWarning: Creating an ndarray from ragged nested sequences (which is a list-or-tuple of lists-or-tuples-or ndarrays with different lengths or shapes) is deprecated. If you meant to do this, you must specify 'dtype=object' when creating the ndarray\n",
            "  # Remove the CWD from sys.path while we load stuff.\n"
          ],
          "name": "stderr"
        },
        {
          "output_type": "display_data",
          "data": {
            "image/png": "[encoded data removed]",
            "text/plain": [
              "<Figure size 700x600 with 2 Axes>"
            ]
          },
          "metadata": {
            "tags": [],
            "needs_background": "light"
          }
        }
      ]
    },
    {
      "cell_type": "code",
      "metadata": {
        "id": "8p0cSlVlFnMI"
      },
      "source": [
        ""
      ],
      "execution_count": 8,
      "outputs": []
    },
    {
      "cell_type": "code",
      "metadata": {
        "colab": {
          "base_uri": "https://localhost:8080/"
        },
        "id": "dOLS16XZG56G",
        "outputId": "b1d6295c-92fb-4267-86ae-d89452701d51"
      },
      "source": [
        "import tensorflow.compat.v1 as tf\r\n",
        "tf.disable_v2_behavior()"
      ],
      "execution_count": 9,
      "outputs": [
        {
          "output_type": "stream",
          "text": [
            "WARNING:tensorflow:From /usr/local/lib/python3.6/dist-packages/tensorflow/python/compat/v2_compat.py:96: disable_resource_variables (from tensorflow.python.ops.variable_scope) is deprecated and will be removed in a future version.\n",
            "Instructions for updating:\n",
            "non-resource variables are not supported in the long term\n"
          ],
          "name": "stdout"
        }
      ]
    },
    {
      "cell_type": "code",
      "metadata": {
        "id": "brkUyT9NBjM5"
      },
      "source": [
        "x = tf.Variable(2, name='x', dtype=tf.float32)\r\n",
        "y = tf.Variable(1, name='y', dtype=tf.float32)"
      ],
      "execution_count": 10,
      "outputs": []
    },
    {
      "cell_type": "code",
      "metadata": {
        "colab": {
          "base_uri": "https://localhost:8080/"
        },
        "id": "CBzdzvcaBkpv",
        "outputId": "fc41646a-5b9b-4ec3-c904-2cf19ac2ac06"
      },
      "source": [
        "x, y"
      ],
      "execution_count": 11,
      "outputs": [
        {
          "output_type": "execute_result",
          "data": {
            "text/plain": [
              "(<tf.Variable 'x:0' shape=() dtype=float32_ref>,\n",
              " <tf.Variable 'y:0' shape=() dtype=float32_ref>)"
            ]
          },
          "metadata": {
            "tags": []
          },
          "execution_count": 11
        }
      ]
    },
    {
      "cell_type": "code",
      "metadata": {
        "id": "cPoXgBRzBqYW"
      },
      "source": [
        "fx = tf.nn.l2_loss(6 * tf.pow(x, 6) + 2 * tf.multiply(tf.pow(x, 4), tf.pow(y, 2)) + 10 * tf.pow(x, 2) + 6 * tf.multiply(x, y) + 10 * tf.pow(y, 2) - 6 * x + 4)"
      ],
      "execution_count": 12,
      "outputs": []
    },
    {
      "cell_type": "code",
      "metadata": {
        "colab": {
          "base_uri": "https://localhost:8080/"
        },
        "id": "wJmQ0bbVAQay",
        "outputId": "83a578b8-b393-415b-9699-88417094c2fb"
      },
      "source": [
        "opt = tf.train.AdamOptimizer(0.001).minimize(fx)\r\n",
        "\r\n",
        "with tf.Session() as sess:\r\n",
        "    sess.run(tf.global_variables_initializer())\r\n",
        "    for i in range(30000):\r\n",
        "        _, x1, x2 = sess.run([opt, x, y])\r\n",
        "        if i % 100 == 0:\r\n",
        "            print(f'Итерация: {i}, x = {np.array([x1, x2])}')\r\n",
        "        #  sess.run(opt)"
      ],
      "execution_count": 14,
      "outputs": [
        {
          "output_type": "stream",
          "text": [
            "Итерация: 0, x = [1.999 0.999]\n",
            "Итерация: 100, x = [1.9078368 0.9074414]\n",
            "Итерация: 200, x = [1.8361341 0.8344355]\n",
            "Итерация: 300, x = [1.7779497  0.77431357]\n",
            "Итерация: 400, x = [1.7292594 0.7232666]\n",
            "Итерация: 500, x = [1.6875274 0.6789039]\n",
            "Итерация: 600, x = [1.651075  0.6396443]\n",
            "Итерация: 700, x = [1.6187416  0.60439414]\n",
            "Итерация: 800, x = [1.5896995 0.5723703]\n",
            "Итерация: 900, x = [1.5633359 0.5429932]\n",
            "Итерация: 1000, x = [1.5391904 0.5158249]\n",
            "Итерация: 1100, x = [1.5169059  0.49052522]\n",
            "Итерация: 1200, x = [1.4962028 0.4668258]\n",
            "Итерация: 1300, x = [1.4768565  0.44451204]\n",
            "Итерация: 1400, x = [1.4586877  0.42340893]\n",
            "Итерация: 1500, x = [1.4415466  0.40337232]\n",
            "Итерация: 1600, x = [1.4253093  0.38428208]\n",
            "Итерация: 1700, x = [1.4098729 0.3660377]\n",
            "Итерация: 1800, x = [1.3951491 0.3485536]\n",
            "Итерация: 1900, x = [1.381063  0.3317567]\n",
            "Итерация: 2000, x = [1.3675517  0.31558415]\n",
            "Итерация: 2100, x = [1.3545586 0.2999815]\n",
            "Итерация: 2200, x = [1.3420358 0.2849013]\n",
            "Итерация: 2300, x = [1.3299407 0.2703021]\n",
            "Итерация: 2400, x = [1.3182362 0.2561473]\n",
            "Итерация: 2500, x = [1.3068898  0.24240477]\n",
            "Итерация: 2600, x = [1.2958715  0.22904608]\n",
            "Итерация: 2700, x = [1.2851555  0.21604575]\n",
            "Итерация: 2800, x = [1.2747184  0.20338134]\n",
            "Итерация: 2900, x = [1.2645391 0.1910327]\n",
            "Итерация: 3000, x = [1.2545987 0.1789817]\n",
            "Итерация: 3100, x = [1.2448804  0.16721214]\n",
            "Итерация: 3200, x = [1.2353687  0.15570952]\n",
            "Итерация: 3300, x = [1.2260491 0.1444608]\n",
            "Итерация: 3400, x = [1.2169088  0.13345422]\n",
            "Итерация: 3500, x = [1.2079358  0.12267919]\n",
            "Итерация: 3600, x = [1.1991196  0.11212611]\n",
            "Итерация: 3700, x = [1.19045    0.10178646]\n",
            "Итерация: 3800, x = [1.1819179  0.09165252]\n",
            "Итерация: 3900, x = [1.1735151  0.08171737]\n",
            "Итерация: 4000, x = [1.1652334  0.07197477]\n",
            "Итерация: 4100, x = [1.1570657  0.06241917]\n",
            "Итерация: 4200, x = [1.1490055  0.05304553]\n",
            "Итерация: 4300, x = [1.1410462  0.04384941]\n",
            "Итерация: 4400, x = [1.1331824  0.03482688]\n",
            "Итерация: 4500, x = [1.1254083  0.02597443]\n",
            "Итерация: 4600, x = [1.1177192 0.017289 ]\n",
            "Итерация: 4700, x = [1.1101099 0.0087679]\n",
            "Итерация: 4800, x = [1.1025764e+00 4.0880076e-04]\n",
            "Итерация: 4900, x = [ 1.095114   -0.00779027]\n",
            "Итерация: 5000, x = [ 1.0877188  -0.01583101]\n",
            "Итерация: 5100, x = [ 1.0803877 -0.0237148]\n",
            "Итерация: 5200, x = [ 1.0731168  -0.03144278]\n",
            "Итерация: 5300, x = [ 1.0659031  -0.03901584]\n",
            "Итерация: 5400, x = [ 1.0587426  -0.04643463]\n",
            "Итерация: 5500, x = [ 1.0516338  -0.05369961]\n",
            "Итерация: 5600, x = [ 1.0445727  -0.06081105]\n",
            "Итерация: 5700, x = [ 1.0375572  -0.06776901]\n",
            "Итерация: 5800, x = [ 1.0305848  -0.07457343]\n",
            "Итерация: 5900, x = [ 1.023653   -0.08122404]\n",
            "Итерация: 6000, x = [ 1.0167594  -0.08772051]\n",
            "Итерация: 6100, x = [ 1.0099021  -0.09406233]\n",
            "Итерация: 6200, x = [ 1.003079  -0.1002489]\n",
            "Итерация: 6300, x = [ 0.99628806 -0.10627951]\n",
            "Итерация: 6400, x = [ 0.98952734 -0.1121534 ]\n",
            "Итерация: 6500, x = [ 0.9827951  -0.11786968]\n",
            "Итерация: 6600, x = [ 0.9760897  -0.12342743]\n",
            "Итерация: 6700, x = [ 0.9694094  -0.12882568]\n",
            "Итерация: 6800, x = [ 0.9627529  -0.13406342]\n",
            "Итерация: 6900, x = [ 0.9561183  -0.13913962]\n",
            "Итерация: 7000, x = [ 0.9495045 -0.1440532]\n",
            "Итерация: 7100, x = [ 0.94290996 -0.14880316]\n",
            "Итерация: 7200, x = [ 0.9363334  -0.15338843]\n",
            "Итерация: 7300, x = [ 0.9297734  -0.15780796]\n",
            "Итерация: 7400, x = [ 0.9232289 -0.1620608]\n",
            "Итерация: 7500, x = [ 0.91669846 -0.16614601]\n",
            "Итерация: 7600, x = [ 0.9101815  -0.17006274]\n",
            "Итерация: 7700, x = [ 0.9036764  -0.17381015]\n",
            "Итерация: 7800, x = [ 0.8971824  -0.17738755]\n",
            "Итерация: 7900, x = [ 0.8906986 -0.1807944]\n",
            "Итерация: 8000, x = [ 0.88422334 -0.18403018]\n",
            "Итерация: 8100, x = [ 0.87775654 -0.18709451]\n",
            "Итерация: 8200, x = [ 0.87129706 -0.1899872 ]\n",
            "Итерация: 8300, x = [ 0.8648438 -0.1927082]\n",
            "Итерация: 8400, x = [ 0.85839576 -0.19525762]\n",
            "Итерация: 8500, x = [ 0.8519525  -0.19763575]\n",
            "Итерация: 8600, x = [ 0.8455141  -0.19984308]\n",
            "Итерация: 8700, x = [ 0.8390768  -0.20188029]\n",
            "Итерация: 8800, x = [ 0.83264494 -0.20374832]\n",
            "Итерация: 8900, x = [ 0.8262136  -0.20544821]\n",
            "Итерация: 9000, x = [ 0.81978226 -0.2069814 ]\n",
            "Итерация: 9100, x = [ 0.8133509  -0.20834945]\n",
            "Итерация: 9200, x = [ 0.8069196  -0.20955418]\n",
            "Итерация: 9300, x = [ 0.80048823 -0.2105977 ]\n",
            "Итерация: 9400, x = [ 0.7940569  -0.21148235]\n",
            "Итерация: 9500, x = [ 0.78762317 -0.21221074]\n",
            "Итерация: 9600, x = [ 0.78118587 -0.21278574]\n",
            "Итерация: 9700, x = [ 0.7747471  -0.21321003]\n",
            "Итерация: 9800, x = [ 0.7683038  -0.21348763]\n",
            "Итерация: 9900, x = [ 0.76185673 -0.21362178]\n",
            "Итерация: 10000, x = [ 0.7554058  -0.21361631]\n",
            "Итерация: 10100, x = [ 0.74895006 -0.21347521]\n",
            "Итерация: 10200, x = [ 0.7424889  -0.21320271]\n",
            "Итерация: 10300, x = [ 0.7360218  -0.21280329]\n",
            "Итерация: 10400, x = [ 0.7295487  -0.21228144]\n",
            "Итерация: 10500, x = [ 0.7230689  -0.21164197]\n",
            "Итерация: 10600, x = [ 0.71658236 -0.2108898 ]\n",
            "Итерация: 10700, x = [ 0.71008885 -0.21002984]\n",
            "Итерация: 10800, x = [ 0.70358825 -0.20906721]\n",
            "Итерация: 10900, x = [ 0.6970799  -0.20800707]\n",
            "Итерация: 11000, x = [ 0.69056314 -0.20685461]\n",
            "Итерация: 11100, x = [ 0.6840388  -0.20561503]\n",
            "Итерация: 11200, x = [ 0.67750585 -0.2042935 ]\n",
            "Итерация: 11300, x = [ 0.6709644  -0.20289518]\n",
            "Итерация: 11400, x = [ 0.6644148  -0.20142525]\n",
            "Итерация: 11500, x = [ 0.65785605 -0.19988868]\n",
            "Итерация: 11600, x = [ 0.6512895  -0.19829033]\n",
            "Итерация: 11700, x = [ 0.6447136  -0.19663504]\n",
            "Итерация: 11800, x = [ 0.63812983 -0.19492738]\n",
            "Итерация: 11900, x = [ 0.6315379  -0.19317186]\n",
            "Итерация: 12000, x = [ 0.62493765 -0.19137275]\n",
            "Итерация: 12100, x = [ 0.6183302  -0.18953411]\n",
            "Итерация: 12200, x = [ 0.61171573 -0.18765987]\n",
            "Итерация: 12300, x = [ 0.6050946  -0.18575366]\n",
            "Итерация: 12400, x = [ 0.5984673  -0.18381894]\n",
            "Итерация: 12500, x = [ 0.59183455 -0.18185893]\n",
            "Итерация: 12600, x = [ 0.58519787 -0.17987666]\n",
            "Итерация: 12700, x = [ 0.5785579  -0.17787491]\n",
            "Итерация: 12800, x = [ 0.5719177  -0.17585644]\n",
            "Итерация: 12900, x = [ 0.5652718  -0.17382364]\n",
            "Итерация: 13000, x = [ 0.55863106 -0.17177868]\n",
            "Итерация: 13100, x = [ 0.5519911  -0.16972391]\n",
            "Итерация: 13200, x = [ 0.54535484 -0.16766116]\n",
            "Итерация: 13300, x = [ 0.53872436 -0.16559224]\n",
            "Итерация: 13400, x = [ 0.53210247 -0.16351905]\n",
            "Итерация: 13500, x = [ 0.52549124 -0.1614432 ]\n",
            "Итерация: 13600, x = [ 0.51889336 -0.15936598]\n",
            "Итерация: 13700, x = [ 0.5123121  -0.15728995]\n",
            "Итерация: 13800, x = [ 0.5057507  -0.15521604]\n",
            "Итерация: 13900, x = [ 0.49921224 -0.15314591]\n",
            "Итерация: 14000, x = [ 0.49270093 -0.15108126]\n",
            "Итерация: 14100, x = [ 0.48622084 -0.14902373]\n",
            "Итерация: 14200, x = [ 0.47977635 -0.14697498]\n",
            "Итерация: 14300, x = [ 0.4733723  -0.14493689]\n",
            "Итерация: 14400, x = [ 0.46701398 -0.14291129]\n",
            "Итерация: 14500, x = [ 0.4607069  -0.14090014]\n",
            "Итерация: 14600, x = [ 0.45445684 -0.13890551]\n",
            "Итерация: 14700, x = [ 0.44827014 -0.13692959]\n",
            "Итерация: 14800, x = [ 0.44215348 -0.13497457]\n",
            "Итерация: 14900, x = [ 0.43611386 -0.13304292]\n",
            "Итерация: 15000, x = [ 0.4301586  -0.13113701]\n",
            "Итерация: 15100, x = [ 0.42429534 -0.12925948]\n",
            "Итерация: 15200, x = [ 0.4185322  -0.12741302]\n",
            "Итерация: 15300, x = [ 0.41287744 -0.12560034]\n",
            "Итерация: 15400, x = [ 0.4073395  -0.12382434]\n",
            "Итерация: 15500, x = [ 0.40192726 -0.12208787]\n",
            "Итерация: 15600, x = [ 0.3966494  -0.12039387]\n",
            "Итерация: 15700, x = [ 0.3915148  -0.11874525]\n",
            "Итерация: 15800, x = [ 0.3865326  -0.11714496]\n",
            "Итерация: 15900, x = [ 0.3817114  -0.11559591]\n",
            "Итерация: 16000, x = [ 0.3770598  -0.11410092]\n",
            "Итерация: 16100, x = [ 0.37258595 -0.11266268]\n",
            "Итерация: 16200, x = [ 0.36829767 -0.11128376]\n",
            "Итерация: 16300, x = [ 0.36420232 -0.10996652]\n",
            "Итерация: 16400, x = [ 0.36030605 -0.10871315]\n",
            "Итерация: 16500, x = [ 0.3566146 -0.1075254]\n",
            "Итерация: 16600, x = [ 0.3531326  -0.10640486]\n",
            "Итерация: 16700, x = [ 0.34986368 -0.10535271]\n",
            "Итерация: 16800, x = [ 0.34681013 -0.10436974]\n",
            "Итерация: 16900, x = [ 0.3439729 -0.1034563]\n",
            "Итерация: 17000, x = [ 0.34135166 -0.10261229]\n",
            "Итерация: 17100, x = [ 0.33894446 -0.10183712]\n",
            "Итерация: 17200, x = [ 0.33674788 -0.10112971]\n",
            "Итерация: 17300, x = [ 0.33475712 -0.10048853]\n",
            "Итерация: 17400, x = [ 0.33296582 -0.09991155]\n",
            "Итерация: 17500, x = [ 0.33136618 -0.09939624]\n",
            "Итерация: 17600, x = [ 0.32994923 -0.0989398 ]\n",
            "Итерация: 17700, x = [ 0.32870474 -0.09853887]\n",
            "Итерация: 17800, x = [ 0.3276215  -0.09818988]\n",
            "Итерация: 17900, x = [ 0.32668766 -0.09788901]\n",
            "Итерация: 18000, x = [ 0.3258906  -0.09763221]\n",
            "Итерация: 18100, x = [ 0.32521763 -0.09741536]\n",
            "Итерация: 18200, x = [ 0.32465574 -0.09723432]\n",
            "Итерация: 18300, x = [ 0.3241921  -0.09708493]\n",
            "Итерация: 18400, x = [ 0.3238144  -0.09696323]\n",
            "Итерация: 18500, x = [ 0.32351074 -0.09686537]\n",
            "Итерация: 18600, x = [ 0.32327    -0.09678779]\n",
            "Итерация: 18700, x = [ 0.32308185 -0.09672717]\n",
            "Итерация: 18800, x = [ 0.32293722 -0.09668056]\n",
            "Итерация: 18900, x = [ 0.32282776 -0.09664531]\n",
            "Итерация: 19000, x = [ 0.32274643 -0.09661909]\n",
            "Итерация: 19100, x = [ 0.32268706 -0.09659994]\n",
            "Итерация: 19200, x = [ 0.32264453 -0.09658624]\n",
            "Итерация: 19300, x = [ 0.3226147  -0.09657664]\n",
            "Итерация: 19400, x = [ 0.32259417 -0.09657005]\n",
            "Итерация: 19500, x = [ 0.3225805  -0.09656561]\n",
            "Итерация: 19600, x = [ 0.32257143 -0.0965627 ]\n",
            "Итерация: 19700, x = [ 0.32256553 -0.09656085]\n",
            "Итерация: 19800, x = [ 0.32256255 -0.09655986]\n",
            "Итерация: 19900, x = [ 0.32255965 -0.09655896]\n",
            "Итерация: 20000, x = [ 0.32255965 -0.09655882]\n",
            "Итерация: 20100, x = [ 0.32255965 -0.09655882]\n",
            "Итерация: 20200, x = [ 0.32255954 -0.09655882]\n",
            "Итерация: 20300, x = [ 0.32255942 -0.0965588 ]\n",
            "Итерация: 20400, x = [ 0.3225593  -0.09655875]\n",
            "Итерация: 20500, x = [ 0.3225592  -0.09655873]\n",
            "Итерация: 20600, x = [ 0.3225591 -0.0965587]\n",
            "Итерация: 20700, x = [ 0.32255903 -0.09655868]\n",
            "Итерация: 20800, x = [ 0.32255894 -0.09655866]\n",
            "Итерация: 20900, x = [ 0.32255882 -0.09655862]\n",
            "Итерация: 21000, x = [ 0.32255876 -0.09655859]\n",
            "Итерация: 21100, x = [ 0.32255867 -0.09655856]\n",
            "Итерация: 21200, x = [ 0.3225586  -0.09655856]\n",
            "Итерация: 21300, x = [ 0.32255855 -0.09655853]\n",
            "Итерация: 21400, x = [ 0.3225585 -0.0965585]\n",
            "Итерация: 21500, x = [ 0.32255843 -0.09655849]\n",
            "Итерация: 21600, x = [ 0.32255837 -0.09655847]\n",
            "Итерация: 21700, x = [ 0.32255828 -0.09655844]\n",
            "Итерация: 21800, x = [ 0.32255822 -0.09655844]\n",
            "Итерация: 21900, x = [ 0.3225582  -0.09655842]\n",
            "Итерация: 22000, x = [ 0.32255813 -0.0965584 ]\n",
            "Итерация: 22100, x = [ 0.3225581  -0.09655838]\n",
            "Итерация: 22200, x = [ 0.32255808 -0.09655838]\n",
            "Итерация: 22300, x = [ 0.32255805 -0.09655837]\n",
            "Итерация: 22400, x = [ 0.322558   -0.09655835]\n",
            "Итерация: 22500, x = [ 0.32255796 -0.09655833]\n",
            "Итерация: 22600, x = [ 0.32255793 -0.09655832]\n",
            "Итерация: 22700, x = [ 0.32255787 -0.09655832]\n",
            "Итерация: 22800, x = [ 0.32255784 -0.09655831]\n",
            "Итерация: 22900, x = [ 0.32255778 -0.0965583 ]\n",
            "Итерация: 23000, x = [ 0.32255778 -0.09655828]\n",
            "Итерация: 23100, x = [ 0.32255778 -0.09655828]\n",
            "Итерация: 23200, x = [ 0.32255778 -0.09655828]\n",
            "Итерация: 23300, x = [ 0.3225577  -0.09655825]\n",
            "Итерация: 23400, x = [ 0.32255766 -0.09655824]\n",
            "Итерация: 23500, x = [ 0.32255766 -0.09655824]\n",
            "Итерация: 23600, x = [ 0.32255763 -0.09655824]\n",
            "Итерация: 23700, x = [ 0.3225576  -0.09655821]\n",
            "Итерация: 23800, x = [ 0.3225576  -0.09655822]\n",
            "Итерация: 23900, x = [ 0.32255757 -0.09655821]\n",
            "Итерация: 24000, x = [ 0.32255754 -0.09655821]\n",
            "Итерация: 24100, x = [ 0.32255754 -0.09655821]\n",
            "Итерация: 24200, x = [ 0.3225575  -0.09655819]\n",
            "Итерация: 24300, x = [ 0.3225575  -0.09655819]\n",
            "Итерация: 24400, x = [ 0.32255748 -0.09655819]\n",
            "Итерация: 24500, x = [ 0.32255748 -0.09655818]\n",
            "Итерация: 24600, x = [ 0.32255748 -0.09655818]\n",
            "Итерация: 24700, x = [ 0.32255745 -0.09655818]\n",
            "Итерация: 24800, x = [ 0.32255745 -0.09655818]\n",
            "Итерация: 24900, x = [ 0.32255745 -0.09655818]\n",
            "Итерация: 25000, x = [ 0.32255745 -0.09655818]\n",
            "Итерация: 25100, x = [ 0.32255745 -0.09655818]\n",
            "Итерация: 25200, x = [ 0.32255745 -0.09655818]\n",
            "Итерация: 25300, x = [ 0.32255742 -0.09655817]\n",
            "Итерация: 25400, x = [ 0.32255742 -0.09655817]\n",
            "Итерация: 25500, x = [ 0.32255742 -0.09655817]\n",
            "Итерация: 25600, x = [ 0.32255736 -0.09655815]\n",
            "Итерация: 25700, x = [ 0.32255736 -0.09655815]\n",
            "Итерация: 25800, x = [ 0.32255736 -0.09655815]\n",
            "Итерация: 25900, x = [ 0.32255736 -0.09655815]\n",
            "Итерация: 26000, x = [ 0.32255736 -0.09655815]\n",
            "Итерация: 26100, x = [ 0.32255733 -0.09655815]\n",
            "Итерация: 26200, x = [ 0.32255733 -0.09655815]\n",
            "Итерация: 26300, x = [ 0.32255733 -0.09655815]\n",
            "Итерация: 26400, x = [ 0.32255733 -0.09655815]\n",
            "Итерация: 26500, x = [ 0.32255733 -0.09655815]\n",
            "Итерация: 26600, x = [ 0.3225573  -0.09655815]\n",
            "Итерация: 26700, x = [ 0.3225573  -0.09655813]\n",
            "Итерация: 26800, x = [ 0.3225573  -0.09655813]\n",
            "Итерация: 26900, x = [ 0.3225573  -0.09655815]\n",
            "Итерация: 27000, x = [ 0.3225573  -0.09655813]\n",
            "Итерация: 27100, x = [ 0.3225573  -0.09655814]\n",
            "Итерация: 27200, x = [ 0.3225573  -0.09655814]\n",
            "Итерация: 27300, x = [ 0.3225573  -0.09655814]\n",
            "Итерация: 27400, x = [ 0.32255724 -0.09655813]\n",
            "Итерация: 27500, x = [ 0.32255724 -0.09655812]\n",
            "Итерация: 27600, x = [ 0.32255724 -0.09655812]\n",
            "Итерация: 27700, x = [ 0.32255724 -0.09655812]\n",
            "Итерация: 27800, x = [ 0.32255724 -0.09655812]\n",
            "Итерация: 27900, x = [ 0.32255724 -0.09655811]\n",
            "Итерация: 28000, x = [ 0.32255724 -0.09655811]\n",
            "Итерация: 28100, x = [ 0.32255724 -0.09655811]\n",
            "Итерация: 28200, x = [ 0.32255724 -0.09655811]\n",
            "Итерация: 28300, x = [ 0.32255724 -0.09655811]\n",
            "Итерация: 28400, x = [ 0.32255724 -0.09655811]\n",
            "Итерация: 28500, x = [ 0.32255724 -0.09655811]\n",
            "Итерация: 28600, x = [ 0.32255724 -0.09655811]\n",
            "Итерация: 28700, x = [ 0.32255724 -0.09655811]\n",
            "Итерация: 28800, x = [ 0.3225572 -0.0965581]\n",
            "Итерация: 28900, x = [ 0.3225572  -0.09655809]\n",
            "Итерация: 29000, x = [ 0.3225572  -0.09655811]\n",
            "Итерация: 29100, x = [ 0.3225572 -0.0965581]\n",
            "Итерация: 29200, x = [ 0.3225572  -0.09655809]\n",
            "Итерация: 29300, x = [ 0.3225572  -0.09655811]\n",
            "Итерация: 29400, x = [ 0.3225572 -0.0965581]\n",
            "Итерация: 29500, x = [ 0.3225572  -0.09655809]\n",
            "Итерация: 29600, x = [ 0.3225572  -0.09655811]\n",
            "Итерация: 29700, x = [ 0.3225572 -0.0965581]\n",
            "Итерация: 29800, x = [ 0.3225572  -0.09655809]\n",
            "Итерация: 29900, x = [ 0.3225572  -0.09655811]\n"
          ],
          "name": "stdout"
        }
      ]
    },
    {
      "cell_type": "code",
      "metadata": {
        "colab": {
          "base_uri": "https://localhost:8080/"
        },
        "id": "f6C-Sgz9zfEY",
        "outputId": "a36ee8ed-f9d7-41d4-e387-a6508b3bb6bc"
      },
      "source": [
        "np.array([x1, x2])"
      ],
      "execution_count": 15,
      "outputs": [
        {
          "output_type": "execute_result",
          "data": {
            "text/plain": [
              "array([ 0.3225572 , -0.09655809], dtype=float32)"
            ]
          },
          "metadata": {
            "tags": []
          },
          "execution_count": 15
        }
      ]
    },
    {
      "cell_type": "code",
      "metadata": {
        "id": "vMAPxjkwBaK5"
      },
      "source": [
        ""
      ],
      "execution_count": null,
      "outputs": []
    }
  ]
}